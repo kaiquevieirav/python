{
  "nbformat": 4,
  "nbformat_minor": 0,
  "metadata": {
    "colab": {
      "provenance": [],
      "authorship_tag": "ABX9TyN3JsdkKKXrXhxf95hcVZoM",
      "include_colab_link": true
    },
    "kernelspec": {
      "name": "python3",
      "display_name": "Python 3"
    },
    "language_info": {
      "name": "python"
    }
  },
  "cells": [
    {
      "cell_type": "markdown",
      "metadata": {
        "id": "view-in-github",
        "colab_type": "text"
      },
      "source": [
        "<a href=\"https://colab.research.google.com/github/kaiquevieirav/python/blob/main/curso_em_video_py.ipynb\" target=\"_parent\"><img src=\"https://colab.research.google.com/assets/colab-badge.svg\" alt=\"Open In Colab\"/></a>"
      ]
    },
    {
      "cell_type": "code",
      "execution_count": null,
      "metadata": {
        "colab": {
          "base_uri": "https://localhost:8080/"
        },
        "id": "nXsoyLayQ3eg",
        "outputId": "a2339439-e7c4-4877-de29-8a14db454a6a"
      },
      "outputs": [
        {
          "output_type": "stream",
          "name": "stdout",
          "text": [
            "qual é seu mone?kaique\n",
            "Ola kaique prazer em te conhecer!\n"
          ]
        }
      ],
      "source": [
        "nome = input('qual é seu mone? ')\n",
        "\n",
        "print('Ola',nome,'prazer em te conhecer!')\n"
      ]
    },
    {
      "cell_type": "code",
      "source": [
        "dia = input('seu dia de nascimento?')\n",
        "mes = input('qual é o més de nascimento?')\n",
        "ano = input('qual é o seu ano de nascimento')\n",
        "print(' voçe nasceu no dia',dia,'de' ,mes,'de',ano, 'comfere?')"
      ],
      "metadata": {
        "colab": {
          "base_uri": "https://localhost:8080/"
        },
        "id": "lPD7E52UR6z7",
        "outputId": "8bbf040b-d3cc-45de-974f-7ce39912e615"
      },
      "execution_count": null,
      "outputs": [
        {
          "output_type": "stream",
          "name": "stdout",
          "text": [
            "seu dia de nascimento?27\n",
            "qual é o més de nascimento?julho\n",
            "qual é op seu ano de nascimento1994\n",
            " voçe nasceu no dia 27 de julho de 1994 comfere?\n"
          ]
        }
      ]
    },
    {
      "cell_type": "code",
      "source": [
        "n1 = int(input('digite um valor'))\n",
        "n2 = int(input('digite um outro valor'))\n",
        "s = n1 + n2\n",
        "#print('a soma entre',n1,'e',n2, 'é igual a',s)\n",
        "print('a soma entre {} e {} vale {}'.format(n1,n2,s))"
      ],
      "metadata": {
        "colab": {
          "base_uri": "https://localhost:8080/"
        },
        "id": "RYL9g2eNabgJ",
        "outputId": "08fa733c-2f1b-48fc-ae4d-696e77de685f"
      },
      "execution_count": null,
      "outputs": [
        {
          "output_type": "stream",
          "name": "stdout",
          "text": [
            "digite um valor6\n",
            "digite um outro valor2\n",
            "a soma entre 6 e 2 vale 8\n"
          ]
        }
      ]
    },
    {
      "cell_type": "code",
      "source": [
        "n1 = int(input('digite um valor'))\n",
        "n2 = int(input('digite um outro valor'))\n",
        "s = n1 + n2\n",
        "m = n1 * n2\n",
        "d = n1 / n2\n",
        "di = n1 // n2\n",
        "e = n1 ** n2\n",
        "print('a soma é {},\\n  o produto é {} \\n e a divisão é{:.2f}'.format(s, m, d))\n",
        "print('a divisão interira {} e potemcia {}'.format(di, e))"
      ],
      "metadata": {
        "colab": {
          "base_uri": "https://localhost:8080/"
        },
        "id": "NfAfDYjDc5ZY",
        "outputId": "b1b903fb-a27f-4dee-a1f2-1433cafa7a01"
      },
      "execution_count": null,
      "outputs": [
        {
          "output_type": "stream",
          "name": "stdout",
          "text": [
            "digite um valor4\n",
            "digite um outro valor3\n",
            "a soma é 7,\n",
            "  o produto é 12 \n",
            " e a divisão é1.33\n",
            "a divisão interira 1 e potemcia 64\n"
          ]
        }
      ]
    },
    {
      "cell_type": "code",
      "source": [
        "#listas / arrays livro 1\n",
        "comidas = ['pizza, hamburguer, hotdog, ovo, lasanha, sopa']\n",
        "doces = ['chocolate, pudim, cookies, sorverte, bolo, rosquinha']\n",
        "bebidas = ['cafe, agua, chá, leite, suco']\n",
        "\n",
        "\n",
        "#revisão pessoal"
      ],
      "metadata": {
        "id": "5FxCeUYvkDpl"
      },
      "execution_count": null,
      "outputs": []
    },
    {
      "cell_type": "code",
      "source": [
        "from math import sqrt, floor\n",
        "num = int(input('digite um numero'))\n",
        "raiz = sqrt(num)\n",
        "print(' a raiz de {} é igual a{}'.format(num, raiz))\n"
      ],
      "metadata": {
        "colab": {
          "base_uri": "https://localhost:8080/"
        },
        "id": "McK1X2wAUnMf",
        "outputId": "afa49f1e-e36d-429f-de3b-1d162e0d71d6"
      },
      "execution_count": null,
      "outputs": [
        {
          "output_type": "stream",
          "name": "stdout",
          "text": [
            "digite um numero5\n",
            " a raiz de 5 é igual a2.23606797749979\n"
          ]
        }
      ]
    },
    {
      "cell_type": "markdown",
      "source": [],
      "metadata": {
        "id": "rbi-kHBBctYz"
      }
    },
    {
      "cell_type": "code",
      "source": [
        "import. #lista imcompleta para atividade conjunta da aula 8, pycharm tem as bibliotecas completas\n",
        "\n"
      ],
      "metadata": {
        "id": "UgYvaoWUXwKi"
      },
      "execution_count": null,
      "outputs": []
    },
    {
      "cell_type": "code",
      "source": [
        "#fatiamento de string e manipulação\n",
        "frase = \"Curso Em Video Python\"\n",
        "print(frase[9])\n",
        "print(frase[9:21])  # aqui pega uma parde ordenada no codigo\n",
        "print(frase[9:21:2])#aqui ele pula a sting de 2 em dois\n",
        "print(frase[:5])    # fatiar do inicio até a marcação\n",
        "print(frase[14:])   # Fatiar da marcação ate o  fim da string\n",
        "print(frase[8::3])  # fatiar de 3 em 3 a string\n",
        "len(frase)   # len(comprimento)\n",
        "frase.count('o') #count(contar) quantas letras \"O\" tem na string\n",
        "frase.find('deo') #find(encontrar) onde se encontra na string\n",
        "'curso' in frase #encontar se tem a palavra na string\n",
        "frase.replace('python','android')#subistir uma palavra na string\n",
        "frase = frase.replace('python','android') #salva a subistituição na string\n",
        "frase.upper()   # o que for minusculo ele trona maiusculo\n",
        "frase.lower()   # vai transformar em minusculo o que for maiusculo\n",
        "frase.capitalize()# a primeira letra da string  para maiuscula\n",
        "frase.title()   # tranforma a primeira letra de cada palavra na string em maiuscula\n",
        "frase.strip()   # elimana todos os espaços inuteis na string\n",
        "frase.Rstrip()  # elimana os espaços da direita da string\n",
        "frase.Lstrip()  # elimana os espaços da esquerda da string\n",
        "frase.split()   #ele vai fazer uma divisão em uma string (lista)\n",
        "#'-'join(frase) #ele vai juntar as palavras da string com (-)\n",
        "# usar 3(\"\"\") em uma string ele coloca um texto inteiro e não so uma frase"
      ],
      "metadata": {
        "id": "KA8QhyIyNdYD"
      },
      "execution_count": null,
      "outputs": []
    },
    {
      "cell_type": "code",
      "source": [
        "nome = str(input('qual é seu nome ? '))\n",
        "if nome == 'kaique':\n",
        "  print('que nome lindo vc tem! ')\n",
        "else:\n",
        "  print('seu nome é normal!')\n",
        "print('bom dia, {}!'.format(nome))"
      ],
      "metadata": {
        "id": "9A6tz2af9hUj",
        "colab": {
          "base_uri": "https://localhost:8080/"
        },
        "outputId": "f27a1d84-9061-4e65-8db1-d80f9bf4b0fc"
      },
      "execution_count": null,
      "outputs": [
        {
          "output_type": "stream",
          "name": "stdout",
          "text": [
            "qual é seu nome ? kaique\n",
            "que nome lindo vc tem! \n",
            "bom dia, kaique!\n"
          ]
        }
      ]
    },
    {
      "cell_type": "code",
      "source": [
        "n1 = float(input('digite a primeira nota: '))\n",
        "n2 = float(input('digite a segunda nota: '))\n",
        "m = (n1 + n2)/2\n",
        "print('a sua media foi {:.1f}'.format(m))\n",
        "if m >= 6.0:\n",
        "  print('a sua media foi boa ! PARABENS')\n",
        "else:\n",
        "  print('a sua media foi ruim! ESTUDE MAIS!')"
      ],
      "metadata": {
        "colab": {
          "base_uri": "https://localhost:8080/"
        },
        "id": "Oae6A8eJMsAk",
        "outputId": "2a2dd790-11d3-4aa7-9db6-99e49716b988"
      },
      "execution_count": null,
      "outputs": [
        {
          "output_type": "stream",
          "name": "stdout",
          "text": [
            "digite a primeira nota: 6\n",
            "digite a segunda nota: 7\n",
            "a sua media foi 6.5\n",
            "a sua media foi boa ! PARABENS\n"
          ]
        }
      ]
    },
    {
      "cell_type": "code",
      "source": [],
      "metadata": {
        "id": "MEbW2U_8VyFX"
      },
      "execution_count": null,
      "outputs": []
    }
  ]
}