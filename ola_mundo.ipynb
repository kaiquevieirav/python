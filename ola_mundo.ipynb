{
  "nbformat": 4,
  "nbformat_minor": 0,
  "metadata": {
    "colab": {
      "provenance": [],
      "authorship_tag": "ABX9TyNgEC/xBuqg4Vb0fZECQ/Qq",
      "include_colab_link": true
    },
    "kernelspec": {
      "name": "python3",
      "display_name": "Python 3"
    },
    "language_info": {
      "name": "python"
    }
  },
  "cells": [
    {
      "cell_type": "markdown",
      "metadata": {
        "id": "view-in-github",
        "colab_type": "text"
      },
      "source": [
        "<a href=\"https://colab.research.google.com/github/kaiquevieirav/python/blob/main/ola_mundo.ipynb\" target=\"_parent\"><img src=\"https://colab.research.google.com/assets/colab-badge.svg\" alt=\"Open In Colab\"/></a>"
      ]
    },
    {
      "cell_type": "code",
      "source": [
        "print(\"digite o nome do aluno\")\n",
        "varnome = str(input())\n",
        "print(\"digite a 1 nota do aluno\")\n",
        "varnota1 = float(input())\n",
        "print(\"digite a 2 nota do aluno\")\n",
        "varnota2 = float(input())\n",
        "varmedia = ((varnota1 + varnota2)/2)\n",
        "if (varmedia >=7):\n",
        "  print('aluno aprovado! sua media é:', varmedia)\n",
        "else:\n",
        "  print('aluno reprovado! seu amedia é', varmedia)"
      ],
      "metadata": {
        "colab": {
          "base_uri": "https://localhost:8080/"
        },
        "id": "1qPc2JDRunSK",
        "outputId": "1c8765d8-c973-489c-b680-1eb6060d9e34"
      },
      "execution_count": 6,
      "outputs": [
        {
          "output_type": "stream",
          "name": "stdout",
          "text": [
            "digite o nome do aluno\n",
            "kaique\n",
            "digite a 1 nota do aluno\n",
            "7\n",
            "digite a 2 nota do aluno\n",
            "9\n",
            "aluno aprovado! sua media é: 8.0\n"
          ]
        }
      ]
    },
    {
      "cell_type": "code",
      "source": [
        "print(\"meu 1 progama em loop\")\n",
        "varnumero = 1\n",
        "while (varnumero <= 10):\n",
        "  print(varnumero)\n",
        "  varnumero = varnumero + 1"
      ],
      "metadata": {
        "colab": {
          "base_uri": "https://localhost:8080/"
        },
        "id": "-9TskV6DyZT5",
        "outputId": "1eabed62-a21c-482b-809e-2f9342bdf47d"
      },
      "execution_count": null,
      "outputs": [
        {
          "output_type": "stream",
          "name": "stdout",
          "text": [
            "meu 1 progama em loop\n",
            "1\n",
            "2\n",
            "3\n",
            "4\n",
            "5\n",
            "6\n",
            "7\n",
            "8\n",
            "9\n",
            "10\n"
          ]
        }
      ]
    }
  ]
}