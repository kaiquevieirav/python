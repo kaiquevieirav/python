{
  "nbformat": 4,
  "nbformat_minor": 0,
  "metadata": {
    "colab": {
      "provenance": [],
      "authorship_tag": "ABX9TyPNljM8XcupKzW/vHczdIqj",
      "include_colab_link": true
    },
    "kernelspec": {
      "name": "python3",
      "display_name": "Python 3"
    },
    "language_info": {
      "name": "python"
    }
  },
  "cells": [
    {
      "cell_type": "markdown",
      "metadata": {
        "id": "view-in-github",
        "colab_type": "text"
      },
      "source": [
        "<a href=\"https://colab.research.google.com/github/kaiquevieirav/python/blob/main/C%C3%B3pia_de_Untitled2.ipynb\" target=\"_parent\"><img src=\"https://colab.research.google.com/assets/colab-badge.svg\" alt=\"Open In Colab\"/></a>"
      ]
    },
    {
      "cell_type": "code",
      "source": [
        "from IPython.core.application import ProfileAwareConfigLoader\n",
        "preco_unitario = 10\n",
        "DESCONTO10 = 0.1\n",
        "DESCONTO20 = 0.2\n",
        "quantidade =eval(input(\"digite a quantidade que vai compar:\"))\n",
        "if(quantidade <= 10):#maior ou igual a 10\n",
        "  valor_final = preco_unitario*quantidade\n",
        "elif(quantidade <= 20):#maior que 10 e menor ou igual a 20\n",
        "  valor_final = preco_unitario*quantidade*(1-DESCONTO10)\n",
        "else:#maior que 20\n",
        "  valor_final = preco_unitario*quantidade*(1-DESCONTO20)\n",
        "\n",
        "print(f'o valor final da compra é: {valor_final}')\n"
      ],
      "metadata": {
        "colab": {
          "base_uri": "https://localhost:8080/"
        },
        "id": "61jvyLGuPStS",
        "outputId": "d5ebee8b-b655-477a-e325-83896bf3bf01"
      },
      "execution_count": null,
      "outputs": [
        {
          "output_type": "stream",
          "name": "stdout",
          "text": [
            "digite a quantidade que vai compar:20\n",
            "o valor final da compra é: 180.0\n"
          ]
        }
      ]
    },
    {
      "cell_type": "code",
      "source": [],
      "metadata": {
        "id": "UuqHvhusXQG_"
      },
      "execution_count": null,
      "outputs": []
    }
  ]
}