{
  "nbformat": 4,
  "nbformat_minor": 0,
  "metadata": {
    "colab": {
      "provenance": [],
      "authorship_tag": "ABX9TyORKy5ZC/M3oKXZCxZZqECU",
      "include_colab_link": true
    },
    "kernelspec": {
      "name": "python3",
      "display_name": "Python 3"
    },
    "language_info": {
      "name": "python"
    }
  },
  "cells": [
    {
      "cell_type": "markdown",
      "metadata": {
        "id": "view-in-github",
        "colab_type": "text"
      },
      "source": [
        "<a href=\"https://colab.research.google.com/github/kaiquevieirav/python/blob/main/aula_python_paradigmas.ipynb\" target=\"_parent\"><img src=\"https://colab.research.google.com/assets/colab-badge.svg\" alt=\"Open In Colab\"/></a>"
      ]
    },
    {
      "cell_type": "code",
      "execution_count": null,
      "metadata": {
        "colab": {
          "base_uri": "https://localhost:8080/"
        },
        "id": "Wjloz-X49EX8",
        "outputId": "99ed1b7d-d27d-4d88-b197-bd97fec67277"
      },
      "outputs": [
        {
          "output_type": "stream",
          "name": "stdout",
          "text": [
            "nome = fusca\n",
            "velocidade_max = 180\n",
            "quilometros percorridos por litro = 10\n"
          ]
        }
      ],
      "source": [
        "class veiculo:\n",
        "\n",
        "  def __init__(self, nome, velocidade_max, quilometros_litro):\n",
        "    self.nome = nome\n",
        "    self.velocidade_max = velocidade_max\n",
        "    self.quilometros_litro = quilometros_litro\n",
        "\n",
        "  def toStr(self):\n",
        "    print(f'nome = {self.nome}')\n",
        "    print(f'velocidade_max = {self.velocidade_max}')\n",
        "    print(f'quilometros percorridos por litro = {self.quilometros_litro}')\n",
        "\n",
        "modelo_carro = veiculo('fusca',180,10)\n",
        "modelo_carro.toStr()"
      ]
    },
    {
      "cell_type": "code",
      "source": [
        "class onibus(veiculo):\n",
        "  pass\n",
        "\n",
        "onibus_escolar = onibus('scania',120,8)\n",
        "onibus_escolar.toStr()"
      ],
      "metadata": {
        "colab": {
          "base_uri": "https://localhost:8080/"
        },
        "id": "M-o6uuWf_EAs",
        "outputId": "96b1aa35-5616-4cdb-8893-6e9cf9f38ca7"
      },
      "execution_count": null,
      "outputs": [
        {
          "output_type": "stream",
          "name": "stdout",
          "text": [
            "nome = scania\n",
            "velocidade_max = 120\n",
            "quilometros percorridos por litro = 8\n"
          ]
        }
      ]
    },
    {
      "cell_type": "code",
      "source": [],
      "metadata": {
        "id": "dyaIi5b4_jkf"
      },
      "execution_count": null,
      "outputs": []
    }
  ]
}