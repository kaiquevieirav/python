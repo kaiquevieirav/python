{
  "nbformat": 4,
  "nbformat_minor": 0,
  "metadata": {
    "colab": {
      "provenance": [],
      "authorship_tag": "ABX9TyPMIuaZyIDurE4A+YMtf0LJ",
      "include_colab_link": true
    },
    "kernelspec": {
      "name": "python3",
      "display_name": "Python 3"
    },
    "language_info": {
      "name": "python"
    }
  },
  "cells": [
    {
      "cell_type": "markdown",
      "metadata": {
        "id": "view-in-github",
        "colab_type": "text"
      },
      "source": [
        "<a href=\"https://colab.research.google.com/github/kaiquevieirav/python/blob/main/revis%C3%A3o_python.ipynb\" target=\"_parent\"><img src=\"https://colab.research.google.com/assets/colab-badge.svg\" alt=\"Open In Colab\"/></a>"
      ]
    },
    {
      "cell_type": "code",
      "execution_count": null,
      "metadata": {
        "colab": {
          "base_uri": "https://localhost:8080/"
        },
        "id": "0eHGwo4BzzKJ",
        "outputId": "e870a303-8ca7-49bb-b58c-faeeeca0e3f9"
      },
      "outputs": [
        {
          "output_type": "execute_result",
          "data": {
            "text/plain": [
              "bool"
            ]
          },
          "metadata": {},
          "execution_count": 2
        }
      ],
      "source": [
        "nome_carta   = 'advogado constituido'\n",
        "clase_carta  = 'druida'\n",
        "mana_invocar = 2\n",
        "ptos_ataque  = 1\n",
        "ptos_vida = 3\n",
        "colecionavel = True\n",
        "type(colecionavel)"
      ]
    },
    {
      "cell_type": "code",
      "source": [
        "total_mana = 10\n",
        "custo_mana = 2\n",
        "total_mana = total_mana - custo_mana\n",
        "print(total_mana)"
      ],
      "metadata": {
        "colab": {
          "base_uri": "https://localhost:8080/"
        },
        "id": "SVxkYl_23Aqn",
        "outputId": "3ef05684-7cb3-4d29-e266-3143c7964da3"
      },
      "execution_count": null,
      "outputs": [
        {
          "output_type": "stream",
          "name": "stdout",
          "text": [
            "8\n"
          ]
        }
      ]
    },
    {
      "cell_type": "code",
      "source": [
        "nome_carta = input('qual é o nome da card:')\n",
        "mana_invocar = int(input('custo de mana:'))\n",
        "type(mana_invocar)"
      ],
      "metadata": {
        "colab": {
          "base_uri": "https://localhost:8080/"
        },
        "id": "MAm6uus138eO",
        "outputId": "84ba2529-a92b-42a1-e7c7-2114c948654b"
      },
      "execution_count": null,
      "outputs": [
        {
          "name": "stdout",
          "output_type": "stream",
          "text": [
            "qual é o nome da card:mago\n",
            "custo de mana:3\n"
          ]
        },
        {
          "output_type": "execute_result",
          "data": {
            "text/plain": [
              "int"
            ]
          },
          "metadata": {},
          "execution_count": 4
        }
      ]
    },
    {
      "cell_type": "code",
      "source": [
        "print(f\"card: {nome_carta} ({mana_invocar})\")"
      ],
      "metadata": {
        "colab": {
          "base_uri": "https://localhost:8080/"
        },
        "id": "JySn-K4i4-U4",
        "outputId": "83267be8-0f85-4681-812a-2a0ba0f2be3f"
      },
      "execution_count": null,
      "outputs": [
        {
          "output_type": "stream",
          "name": "stdout",
          "text": [
            "card: mago (3)\n"
          ]
        }
      ]
    },
    {
      "cell_type": "code",
      "source": [
        "mana_jogador = 5\n",
        "mana_invocar = int(input('custo de mana do card:'))\n",
        "if mana_jogador >= mana_invocar:\n",
        "  print('card posisionado na mesa de jogo')\n",
        "else:\n",
        "  print('voce não tem mana suficiente! escolha outra carta')\n"
      ],
      "metadata": {
        "colab": {
          "base_uri": "https://localhost:8080/"
        },
        "id": "GXhYTl7Z5VQj",
        "outputId": "11f300c4-f5fa-4df6-db73-cc8b1f2350e9"
      },
      "execution_count": null,
      "outputs": [
        {
          "output_type": "stream",
          "name": "stdout",
          "text": [
            "custo de mana do card:4\n",
            "card posisionado na mesa de jogo\n"
          ]
        }
      ]
    },
    {
      "cell_type": "code",
      "source": [
        "print('informe o tipo da carta que voçê deseja buscar:',\n",
        "      '(1) druida',\n",
        "      '(2) caçador',\n",
        "      '(3) mago',\n",
        "      '(4) paladino',\n",
        "      '(5) xamã')\n",
        "\n",
        "tipo_carta = input('digite um numero:')\n",
        "\n",
        "if tipo_carta == '1':\n",
        "  tipo_carta = 'druida'\n",
        "elif  tipo_carta == '2':\n",
        "  tipo_carta = 'caçador'\n",
        "elif  tipo_carta == '3':\n",
        "  tipo_carta = 'mago'\n",
        "elif  tipo_carta == '4':\n",
        "  tipo_carta = 'paladino'\n",
        "elif  tipo_carta == '5':\n",
        "  tipo_carta = 'xamã'\n",
        "else:\n",
        "  print('erro, nehhum tipo correspondente!')\n",
        "\n",
        "print('sua escolha foi:', tipo_carta)\n"
      ],
      "metadata": {
        "id": "LnsnLfT_7yLZ",
        "colab": {
          "base_uri": "https://localhost:8080/"
        },
        "outputId": "c5b60d13-5ae7-4890-af44-5de012c715c2"
      },
      "execution_count": null,
      "outputs": [
        {
          "output_type": "stream",
          "name": "stdout",
          "text": [
            "informe o tipo da carta que voçê deseja buscar: (1) druida (2) caçador (3) mago (4) paladino (5) xamã\n",
            "digite um numero:5\n",
            "sua escolha foi: xamã\n"
          ]
        }
      ]
    },
    {
      "cell_type": "code",
      "source": [
        "mochila = ['sangue','escudo','poção','erva seca','chave','mapa']\n",
        "\n",
        "len(mochila)\n",
        "\n",
        "print(f\"{mochila[2]} dos mortos\")"
      ],
      "metadata": {
        "colab": {
          "base_uri": "https://localhost:8080/"
        },
        "id": "ltIyc8lK074z",
        "outputId": "e0d9e00a-f75b-4da8-b601-9911f44c81a9"
      },
      "execution_count": null,
      "outputs": [
        {
          "output_type": "stream",
          "name": "stdout",
          "text": [
            "poção dos mortos\n"
          ]
        }
      ]
    },
    {
      "cell_type": "code",
      "source": [
        "print(mochila[2:5])"
      ],
      "metadata": {
        "colab": {
          "base_uri": "https://localhost:8080/"
        },
        "id": "r1VkY-xF4cC0",
        "outputId": "12371d3c-0542-435d-dec0-6db8e3470ba4"
      },
      "execution_count": null,
      "outputs": [
        {
          "output_type": "stream",
          "name": "stdout",
          "text": [
            "['poção', 'erva seca', 'chave']\n"
          ]
        }
      ]
    },
    {
      "cell_type": "code",
      "source": [
        "print(f\"último item na mochila é o {mochila[-1] }\")"
      ],
      "metadata": {
        "colab": {
          "base_uri": "https://localhost:8080/",
          "height": 166
        },
        "id": "qjmUw0ag4s9q",
        "outputId": "d535c325-4397-48ae-baf4-c270558b4e30"
      },
      "execution_count": null,
      "outputs": [
        {
          "output_type": "error",
          "ename": "NameError",
          "evalue": "ignored",
          "traceback": [
            "\u001b[0;31m---------------------------------------------------------------------------\u001b[0m",
            "\u001b[0;31mNameError\u001b[0m                                 Traceback (most recent call last)",
            "\u001b[0;32m<ipython-input-2-36f4bec1eee3>\u001b[0m in \u001b[0;36m<cell line: 1>\u001b[0;34m()\u001b[0m\n\u001b[0;32m----> 1\u001b[0;31m \u001b[0mprint\u001b[0m\u001b[0;34m(\u001b[0m\u001b[0;34mf\"último item na mochila é o {mochila[-1] }\"\u001b[0m\u001b[0;34m)\u001b[0m\u001b[0;34m\u001b[0m\u001b[0;34m\u001b[0m\u001b[0m\n\u001b[0m",
            "\u001b[0;31mNameError\u001b[0m: name 'mochila' is not defined"
          ]
        }
      ]
    },
    {
      "cell_type": "code",
      "source": [
        "itens_deck = []\n",
        "\n",
        "itens_deck.append('mapa')\n",
        "itens_deck.append('sangue')\n",
        "itens_deck.append('erva seca')\n",
        "itens_deck.append('poção')\n",
        "itens_deck.append('chave')\n",
        "itens_deck.append('esculdo')\n",
        "\n",
        "len(itens_deck)"
      ],
      "metadata": {
        "colab": {
          "base_uri": "https://localhost:8080/"
        },
        "id": "N0kNVw745J0G",
        "outputId": "055bb992-8d90-4f53-e549-252bf8836399"
      },
      "execution_count": null,
      "outputs": [
        {
          "output_type": "execute_result",
          "data": {
            "text/plain": [
              "6"
            ]
          },
          "metadata": {},
          "execution_count": 11
        }
      ]
    },
    {
      "cell_type": "code",
      "source": [
        "for itens in mochila:\n",
        " print(f\"{itens} esta dentro da sua mochila\")\n",
        "else:\n",
        "  print('esses são todos seus itens!')"
      ],
      "metadata": {
        "colab": {
          "base_uri": "https://localhost:8080/",
          "height": 218
        },
        "id": "yGWhwuoD6bxY",
        "outputId": "6d45d8f1-5a0f-4caf-a3a6-050b03f47fa2"
      },
      "execution_count": null,
      "outputs": [
        {
          "output_type": "error",
          "ename": "NameError",
          "evalue": "ignored",
          "traceback": [
            "\u001b[0;31m---------------------------------------------------------------------------\u001b[0m",
            "\u001b[0;31mNameError\u001b[0m                                 Traceback (most recent call last)",
            "\u001b[0;32m<ipython-input-1-7df7962d930c>\u001b[0m in \u001b[0;36m<cell line: 1>\u001b[0;34m()\u001b[0m\n\u001b[0;32m----> 1\u001b[0;31m \u001b[0;32mfor\u001b[0m \u001b[0mitens\u001b[0m \u001b[0;32min\u001b[0m \u001b[0mmochila\u001b[0m\u001b[0;34m:\u001b[0m\u001b[0;34m\u001b[0m\u001b[0;34m\u001b[0m\u001b[0m\n\u001b[0m\u001b[1;32m      2\u001b[0m  \u001b[0mprint\u001b[0m\u001b[0;34m(\u001b[0m\u001b[0;34mf\"{itens} esta dentro da sua mochila\"\u001b[0m\u001b[0;34m)\u001b[0m\u001b[0;34m\u001b[0m\u001b[0;34m\u001b[0m\u001b[0m\n\u001b[1;32m      3\u001b[0m \u001b[0;32melse\u001b[0m\u001b[0;34m:\u001b[0m\u001b[0;34m\u001b[0m\u001b[0;34m\u001b[0m\u001b[0m\n\u001b[1;32m      4\u001b[0m   \u001b[0mprint\u001b[0m\u001b[0;34m(\u001b[0m\u001b[0;34m'esses são todos seus itens!'\u001b[0m\u001b[0;34m)\u001b[0m\u001b[0;34m\u001b[0m\u001b[0;34m\u001b[0m\u001b[0m\n",
            "\u001b[0;31mNameError\u001b[0m: name 'mochila' is not defined"
          ]
        }
      ]
    },
    {
      "cell_type": "code",
      "source": [
        "print(\"vamos montar o seu novo deck de itens!\")\n",
        "\n",
        "inserir = '1'\n",
        "novo_deck = []\n",
        "\n",
        "while inserir == '1':\n",
        "  novo_item = input('qual o nome do item?')\n",
        "  novo_deck.append(novo_item)\n",
        "  inserir = input('deseja inserir um novo? (1)sim (0)não: ')\n",
        "\n",
        "print(f\"seu novo deck tem {len(novo_deck)} itens\")\n"
      ],
      "metadata": {
        "id": "VzZttqb27lEP"
      },
      "execution_count": null,
      "outputs": []
    },
    {
      "cell_type": "code",
      "source": [
        "novo_deck = []\n",
        "\n",
        "def inserir_novo():\n",
        "  novo = input('qual o nome do item: ')\n",
        "  if vericar(novo):\n",
        "    novo_deck.append(novo)\n",
        "  else:\n",
        "    print('esse item ja existe na sua mochila')\n",
        "\n",
        "def mostrar_deck():\n",
        "  print(f\"seu novo deck tem {len(novo_deck)} itens\")\n",
        "  print(novo_deck)\n",
        "\n",
        "def verificar(item):\n",
        "  if item in novo_deck:\n",
        "    return False\n",
        "  else:\n",
        "    return True"
      ],
      "metadata": {
        "id": "P_sevyPw9p9g"
      },
      "execution_count": null,
      "outputs": []
    },
    {
      "cell_type": "code",
      "source": [
        "a =['10']\n",
        "b =['20']\n",
        "c =['30']\n",
        "\n",
        "print(a*2+b*3+c*4)"
      ],
      "metadata": {
        "colab": {
          "base_uri": "https://localhost:8080/"
        },
        "id": "0lMpw8kM0Fxc",
        "outputId": "fbebc7bf-f281-4323-d0a7-a1ca222a74f2"
      },
      "execution_count": null,
      "outputs": [
        {
          "output_type": "stream",
          "name": "stdout",
          "text": [
            "['10', '10', '20', '20', '20', '30', '30', '30', '30']\n"
          ]
        }
      ]
    },
    {
      "cell_type": "code",
      "source": [
        "a=10\n",
        "b=5\n",
        "x=-b/a\n",
        "print('o resultado a equação de primero grau é: x={}'. format(x))"
      ],
      "metadata": {
        "colab": {
          "base_uri": "https://localhost:8080/"
        },
        "id": "FqvRX5wY0snr",
        "outputId": "fd508856-d4af-478c-af59-95d0b80ca899"
      },
      "execution_count": null,
      "outputs": [
        {
          "output_type": "stream",
          "name": "stdout",
          "text": [
            "o resultado a equação de primero grau é: x=-0.5\n"
          ]
        }
      ]
    },
    {
      "cell_type": "code",
      "source": [
        "preco_unitario = 10\n",
        "desconto10 = 0.1\n",
        "desconto20 = 0.2\n",
        "\n",
        "quantidade = eval(input('digite o quantidade de produtos:'))\n",
        "\n",
        "if (quantidade <= 10):\n",
        "  valor_final = preco_unitario*quantidade\n",
        "elif (quantidade <= 20):\n",
        "  valor_final = preco_unitario*quantidade*(1-desconto10)\n",
        "else:\n",
        "  valor_final = preco_unitario*quantidade*(1-desconto20)\n",
        "\n",
        "print(f'o valor final da copmpra é:{valor_final}')"
      ],
      "metadata": {
        "colab": {
          "base_uri": "https://localhost:8080/"
        },
        "id": "x3dQpwdB43T5",
        "outputId": "bd1a417f-b399-47a1-a521-0bcf0b2eb286"
      },
      "execution_count": null,
      "outputs": [
        {
          "output_type": "stream",
          "name": "stdout",
          "text": [
            "digite o quantidade de produtos:10\n",
            "o valor final da copmpra é:100\n"
          ]
        }
      ]
    },
    {
      "cell_type": "code",
      "source": [
        "lista =[10,2,5,7,6,3]\n",
        "\n",
        "soma=0\n",
        "for num in lista:\n",
        "  if(num%2==0):\n",
        "    soma=soma+num\n",
        "print(f'o somatorio dos elemnetos pares da lista é:{soma}')"
      ],
      "metadata": {
        "colab": {
          "base_uri": "https://localhost:8080/"
        },
        "id": "g_dqsOpF-0fB",
        "outputId": "7218b896-5b4f-4dd4-96f3-49604c59a75d"
      },
      "execution_count": null,
      "outputs": [
        {
          "output_type": "stream",
          "name": "stdout",
          "text": [
            "o somatorio dos elemnetos pares da lista é:18\n"
          ]
        }
      ]
    }
  ]
}